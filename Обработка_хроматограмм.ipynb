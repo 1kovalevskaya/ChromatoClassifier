{
  "cells": [
    {
      "cell_type": "markdown",
      "metadata": {
        "id": "view-in-github",
        "colab_type": "text"
      },
      "source": [
        "<a href=\"https://colab.research.google.com/github/1kovalevskaya/ChromatoClassifier/blob/main/%D0%9E%D0%B1%D1%80%D0%B0%D0%B1%D0%BE%D1%82%D0%BA%D0%B0_%D1%85%D1%80%D0%BE%D0%BC%D0%B0%D1%82%D0%BE%D0%B3%D1%80%D0%B0%D0%BC%D0%BC.ipynb\" target=\"_parent\"><img src=\"https://colab.research.google.com/assets/colab-badge.svg\" alt=\"Open In Colab\"/></a>"
      ]
    },
    {
      "cell_type": "markdown",
      "metadata": {
        "id": "2Uxcqmokc13M"
      },
      "source": [
        "# Подготовка данных"
      ]
    },
    {
      "cell_type": "code",
      "execution_count": 1,
      "metadata": {
        "id": "uaQSosmUY35Q",
        "colab": {
          "base_uri": "https://localhost:8080/"
        },
        "outputId": "2f5c7643-d83c-443c-836a-c63fb8964e4a"
      },
      "outputs": [
        {
          "output_type": "stream",
          "name": "stdout",
          "text": [
            "\u001b[2K     \u001b[90m━━━━━━━━━━━━━━━━━━━━━━━━━━━━━━━━━━━━━━━━\u001b[0m \u001b[32m159.9/159.9 kB\u001b[0m \u001b[31m2.8 MB/s\u001b[0m eta \u001b[36m0:00:00\u001b[0m\n",
            "\u001b[2K     \u001b[90m━━━━━━━━━━━━━━━━━━━━━━━━━━━━━━━━━━━━━━━━\u001b[0m \u001b[32m98.5/98.5 MB\u001b[0m \u001b[31m9.1 MB/s\u001b[0m eta \u001b[36m0:00:00\u001b[0m\n",
            "\u001b[?25h"
          ]
        }
      ],
      "source": [
        "#установка библиотек\n",
        "\n",
        "!pip install openpyxl xlsxwriter xlrd -q\n",
        "!pip install catboost -q\n",
        "\n",
        "import pandas as pd\n",
        "import seaborn as sns\n",
        "import sklearn\n",
        "import xgboost as xgb\n",
        "import catboost"
      ]
    },
    {
      "cell_type": "code",
      "execution_count": 2,
      "metadata": {
        "id": "oCtfyvw0XRdl"
      },
      "outputs": [],
      "source": [
        "#установка модулей\n",
        "\n",
        "from sklearn.model_selection import train_test_split\n",
        "from sklearn.pipeline import Pipeline\n",
        "from sklearn.model_selection import GridSearchCV\n",
        "\n",
        "from sklearn.svm import SVC\n",
        "from sklearn.ensemble import RandomForestClassifier\n",
        "from xgboost import XGBClassifier\n",
        "from sklearn.tree import DecisionTreeClassifier\n",
        "from catboost import CatBoostClassifier\n",
        "from sklearn.neighbors import KNeighborsClassifier\n",
        "\n",
        "from sklearn.metrics import accuracy_score, f1_score\n",
        "from sklearn.preprocessing import LabelEncoder\n",
        "import warnings\n",
        "warnings.filterwarnings(\"ignore\")\n",
        "\n",
        "from matplotlib import pyplot as plt"
      ]
    },
    {
      "cell_type": "code",
      "execution_count": 3,
      "metadata": {
        "id": "bA82T3DIXU-N"
      },
      "outputs": [],
      "source": [
        "#константы\n",
        "\n",
        "RANDOM_STATE = 42\n",
        "TEST_SIZE = 0.25\n",
        "DENSITY = 0.877\n",
        "MOLAR_MASS_ACID = 282.5"
      ]
    },
    {
      "cell_type": "code",
      "execution_count": 4,
      "metadata": {
        "colab": {
          "base_uri": "https://localhost:8080/",
          "height": 408
        },
        "id": "9rI1FrsKZYYv",
        "outputId": "aae2d7eb-6dca-4c0c-f35a-532a0ad46076"
      },
      "outputs": [
        {
          "output_type": "stream",
          "name": "stdout",
          "text": [
            "<class 'pandas.core.frame.DataFrame'>\n",
            "RangeIndex: 10162 entries, 0 to 10161\n",
            "Data columns (total 4 columns):\n",
            " #   Column      Non-Null Count  Dtype  \n",
            "---  ------      --------------  -----  \n",
            " 0   time        10162 non-null  float64\n",
            " 1   square      10162 non-null  float64\n",
            " 2   start_time  10162 non-null  float64\n",
            " 3   substance   9225 non-null   object \n",
            "dtypes: float64(3), object(1)\n",
            "memory usage: 317.7+ KB\n"
          ]
        },
        {
          "output_type": "execute_result",
          "data": {
            "text/plain": [
              "       time       square  start_time substance\n",
              "0  1.578314    30.962362    1.490339        и5\n",
              "1  1.629458    70.300926    1.605952        н5\n",
              "2  1.653532  6478.212402    1.639873      HDMS\n",
              "3  1.771930  1056.017090    1.736610      HDMS\n",
              "4  1.798921   140.062958    1.791436        и6"
            ],
            "text/html": [
              "\n",
              "  <div id=\"df-19443d3b-dde1-4f2e-b970-5f1f46ffa20e\" class=\"colab-df-container\">\n",
              "    <div>\n",
              "<style scoped>\n",
              "    .dataframe tbody tr th:only-of-type {\n",
              "        vertical-align: middle;\n",
              "    }\n",
              "\n",
              "    .dataframe tbody tr th {\n",
              "        vertical-align: top;\n",
              "    }\n",
              "\n",
              "    .dataframe thead th {\n",
              "        text-align: right;\n",
              "    }\n",
              "</style>\n",
              "<table border=\"1\" class=\"dataframe\">\n",
              "  <thead>\n",
              "    <tr style=\"text-align: right;\">\n",
              "      <th></th>\n",
              "      <th>time</th>\n",
              "      <th>square</th>\n",
              "      <th>start_time</th>\n",
              "      <th>substance</th>\n",
              "    </tr>\n",
              "  </thead>\n",
              "  <tbody>\n",
              "    <tr>\n",
              "      <th>0</th>\n",
              "      <td>1.578314</td>\n",
              "      <td>30.962362</td>\n",
              "      <td>1.490339</td>\n",
              "      <td>и5</td>\n",
              "    </tr>\n",
              "    <tr>\n",
              "      <th>1</th>\n",
              "      <td>1.629458</td>\n",
              "      <td>70.300926</td>\n",
              "      <td>1.605952</td>\n",
              "      <td>н5</td>\n",
              "    </tr>\n",
              "    <tr>\n",
              "      <th>2</th>\n",
              "      <td>1.653532</td>\n",
              "      <td>6478.212402</td>\n",
              "      <td>1.639873</td>\n",
              "      <td>HDMS</td>\n",
              "    </tr>\n",
              "    <tr>\n",
              "      <th>3</th>\n",
              "      <td>1.771930</td>\n",
              "      <td>1056.017090</td>\n",
              "      <td>1.736610</td>\n",
              "      <td>HDMS</td>\n",
              "    </tr>\n",
              "    <tr>\n",
              "      <th>4</th>\n",
              "      <td>1.798921</td>\n",
              "      <td>140.062958</td>\n",
              "      <td>1.791436</td>\n",
              "      <td>и6</td>\n",
              "    </tr>\n",
              "  </tbody>\n",
              "</table>\n",
              "</div>\n",
              "    <div class=\"colab-df-buttons\">\n",
              "\n",
              "  <div class=\"colab-df-container\">\n",
              "    <button class=\"colab-df-convert\" onclick=\"convertToInteractive('df-19443d3b-dde1-4f2e-b970-5f1f46ffa20e')\"\n",
              "            title=\"Convert this dataframe to an interactive table.\"\n",
              "            style=\"display:none;\">\n",
              "\n",
              "  <svg xmlns=\"http://www.w3.org/2000/svg\" height=\"24px\" viewBox=\"0 -960 960 960\">\n",
              "    <path d=\"M120-120v-720h720v720H120Zm60-500h600v-160H180v160Zm220 220h160v-160H400v160Zm0 220h160v-160H400v160ZM180-400h160v-160H180v160Zm440 0h160v-160H620v160ZM180-180h160v-160H180v160Zm440 0h160v-160H620v160Z\"/>\n",
              "  </svg>\n",
              "    </button>\n",
              "\n",
              "  <style>\n",
              "    .colab-df-container {\n",
              "      display:flex;\n",
              "      gap: 12px;\n",
              "    }\n",
              "\n",
              "    .colab-df-convert {\n",
              "      background-color: #E8F0FE;\n",
              "      border: none;\n",
              "      border-radius: 50%;\n",
              "      cursor: pointer;\n",
              "      display: none;\n",
              "      fill: #1967D2;\n",
              "      height: 32px;\n",
              "      padding: 0 0 0 0;\n",
              "      width: 32px;\n",
              "    }\n",
              "\n",
              "    .colab-df-convert:hover {\n",
              "      background-color: #E2EBFA;\n",
              "      box-shadow: 0px 1px 2px rgba(60, 64, 67, 0.3), 0px 1px 3px 1px rgba(60, 64, 67, 0.15);\n",
              "      fill: #174EA6;\n",
              "    }\n",
              "\n",
              "    .colab-df-buttons div {\n",
              "      margin-bottom: 4px;\n",
              "    }\n",
              "\n",
              "    [theme=dark] .colab-df-convert {\n",
              "      background-color: #3B4455;\n",
              "      fill: #D2E3FC;\n",
              "    }\n",
              "\n",
              "    [theme=dark] .colab-df-convert:hover {\n",
              "      background-color: #434B5C;\n",
              "      box-shadow: 0px 1px 3px 1px rgba(0, 0, 0, 0.15);\n",
              "      filter: drop-shadow(0px 1px 2px rgba(0, 0, 0, 0.3));\n",
              "      fill: #FFFFFF;\n",
              "    }\n",
              "  </style>\n",
              "\n",
              "    <script>\n",
              "      const buttonEl =\n",
              "        document.querySelector('#df-19443d3b-dde1-4f2e-b970-5f1f46ffa20e button.colab-df-convert');\n",
              "      buttonEl.style.display =\n",
              "        google.colab.kernel.accessAllowed ? 'block' : 'none';\n",
              "\n",
              "      async function convertToInteractive(key) {\n",
              "        const element = document.querySelector('#df-19443d3b-dde1-4f2e-b970-5f1f46ffa20e');\n",
              "        const dataTable =\n",
              "          await google.colab.kernel.invokeFunction('convertToInteractive',\n",
              "                                                    [key], {});\n",
              "        if (!dataTable) return;\n",
              "\n",
              "        const docLinkHtml = 'Like what you see? Visit the ' +\n",
              "          '<a target=\"_blank\" href=https://colab.research.google.com/notebooks/data_table.ipynb>data table notebook</a>'\n",
              "          + ' to learn more about interactive tables.';\n",
              "        element.innerHTML = '';\n",
              "        dataTable['output_type'] = 'display_data';\n",
              "        await google.colab.output.renderOutput(dataTable, element);\n",
              "        const docLink = document.createElement('div');\n",
              "        docLink.innerHTML = docLinkHtml;\n",
              "        element.appendChild(docLink);\n",
              "      }\n",
              "    </script>\n",
              "  </div>\n",
              "\n",
              "\n",
              "<div id=\"df-e23f50fe-fa41-41a6-ae65-19d78a2fb9dd\">\n",
              "  <button class=\"colab-df-quickchart\" onclick=\"quickchart('df-e23f50fe-fa41-41a6-ae65-19d78a2fb9dd')\"\n",
              "            title=\"Suggest charts\"\n",
              "            style=\"display:none;\">\n",
              "\n",
              "<svg xmlns=\"http://www.w3.org/2000/svg\" height=\"24px\"viewBox=\"0 0 24 24\"\n",
              "     width=\"24px\">\n",
              "    <g>\n",
              "        <path d=\"M19 3H5c-1.1 0-2 .9-2 2v14c0 1.1.9 2 2 2h14c1.1 0 2-.9 2-2V5c0-1.1-.9-2-2-2zM9 17H7v-7h2v7zm4 0h-2V7h2v10zm4 0h-2v-4h2v4z\"/>\n",
              "    </g>\n",
              "</svg>\n",
              "  </button>\n",
              "\n",
              "<style>\n",
              "  .colab-df-quickchart {\n",
              "      --bg-color: #E8F0FE;\n",
              "      --fill-color: #1967D2;\n",
              "      --hover-bg-color: #E2EBFA;\n",
              "      --hover-fill-color: #174EA6;\n",
              "      --disabled-fill-color: #AAA;\n",
              "      --disabled-bg-color: #DDD;\n",
              "  }\n",
              "\n",
              "  [theme=dark] .colab-df-quickchart {\n",
              "      --bg-color: #3B4455;\n",
              "      --fill-color: #D2E3FC;\n",
              "      --hover-bg-color: #434B5C;\n",
              "      --hover-fill-color: #FFFFFF;\n",
              "      --disabled-bg-color: #3B4455;\n",
              "      --disabled-fill-color: #666;\n",
              "  }\n",
              "\n",
              "  .colab-df-quickchart {\n",
              "    background-color: var(--bg-color);\n",
              "    border: none;\n",
              "    border-radius: 50%;\n",
              "    cursor: pointer;\n",
              "    display: none;\n",
              "    fill: var(--fill-color);\n",
              "    height: 32px;\n",
              "    padding: 0;\n",
              "    width: 32px;\n",
              "  }\n",
              "\n",
              "  .colab-df-quickchart:hover {\n",
              "    background-color: var(--hover-bg-color);\n",
              "    box-shadow: 0 1px 2px rgba(60, 64, 67, 0.3), 0 1px 3px 1px rgba(60, 64, 67, 0.15);\n",
              "    fill: var(--button-hover-fill-color);\n",
              "  }\n",
              "\n",
              "  .colab-df-quickchart-complete:disabled,\n",
              "  .colab-df-quickchart-complete:disabled:hover {\n",
              "    background-color: var(--disabled-bg-color);\n",
              "    fill: var(--disabled-fill-color);\n",
              "    box-shadow: none;\n",
              "  }\n",
              "\n",
              "  .colab-df-spinner {\n",
              "    border: 2px solid var(--fill-color);\n",
              "    border-color: transparent;\n",
              "    border-bottom-color: var(--fill-color);\n",
              "    animation:\n",
              "      spin 1s steps(1) infinite;\n",
              "  }\n",
              "\n",
              "  @keyframes spin {\n",
              "    0% {\n",
              "      border-color: transparent;\n",
              "      border-bottom-color: var(--fill-color);\n",
              "      border-left-color: var(--fill-color);\n",
              "    }\n",
              "    20% {\n",
              "      border-color: transparent;\n",
              "      border-left-color: var(--fill-color);\n",
              "      border-top-color: var(--fill-color);\n",
              "    }\n",
              "    30% {\n",
              "      border-color: transparent;\n",
              "      border-left-color: var(--fill-color);\n",
              "      border-top-color: var(--fill-color);\n",
              "      border-right-color: var(--fill-color);\n",
              "    }\n",
              "    40% {\n",
              "      border-color: transparent;\n",
              "      border-right-color: var(--fill-color);\n",
              "      border-top-color: var(--fill-color);\n",
              "    }\n",
              "    60% {\n",
              "      border-color: transparent;\n",
              "      border-right-color: var(--fill-color);\n",
              "    }\n",
              "    80% {\n",
              "      border-color: transparent;\n",
              "      border-right-color: var(--fill-color);\n",
              "      border-bottom-color: var(--fill-color);\n",
              "    }\n",
              "    90% {\n",
              "      border-color: transparent;\n",
              "      border-bottom-color: var(--fill-color);\n",
              "    }\n",
              "  }\n",
              "</style>\n",
              "\n",
              "  <script>\n",
              "    async function quickchart(key) {\n",
              "      const quickchartButtonEl =\n",
              "        document.querySelector('#' + key + ' button');\n",
              "      quickchartButtonEl.disabled = true;  // To prevent multiple clicks.\n",
              "      quickchartButtonEl.classList.add('colab-df-spinner');\n",
              "      try {\n",
              "        const charts = await google.colab.kernel.invokeFunction(\n",
              "            'suggestCharts', [key], {});\n",
              "      } catch (error) {\n",
              "        console.error('Error during call to suggestCharts:', error);\n",
              "      }\n",
              "      quickchartButtonEl.classList.remove('colab-df-spinner');\n",
              "      quickchartButtonEl.classList.add('colab-df-quickchart-complete');\n",
              "    }\n",
              "    (() => {\n",
              "      let quickchartButtonEl =\n",
              "        document.querySelector('#df-e23f50fe-fa41-41a6-ae65-19d78a2fb9dd button');\n",
              "      quickchartButtonEl.style.display =\n",
              "        google.colab.kernel.accessAllowed ? 'block' : 'none';\n",
              "    })();\n",
              "  </script>\n",
              "</div>\n",
              "    </div>\n",
              "  </div>\n"
            ],
            "application/vnd.google.colaboratory.intrinsic+json": {
              "type": "dataframe",
              "variable_name": "train",
              "summary": "{\n  \"name\": \"train\",\n  \"rows\": 10162,\n  \"fields\": [\n    {\n      \"column\": \"time\",\n      \"properties\": {\n        \"dtype\": \"number\",\n        \"std\": 6.843500016394618,\n        \"min\": 1.5328665971756,\n        \"max\": 26.9356784820557,\n        \"num_unique_values\": 10153,\n        \"samples\": [\n          2.13573670387268,\n          11.0929937362671,\n          12.9283103942871\n        ],\n        \"semantic_type\": \"\",\n        \"description\": \"\"\n      }\n    },\n    {\n      \"column\": \"square\",\n      \"properties\": {\n        \"dtype\": \"number\",\n        \"std\": 3377.9692793796876,\n        \"min\": 1.14402997493744,\n        \"max\": 85067.2109375,\n        \"num_unique_values\": 10160,\n        \"samples\": [\n          985.880493164063,\n          100.004791259766,\n          92.8890228271485\n        ],\n        \"semantic_type\": \"\",\n        \"description\": \"\"\n      }\n    },\n    {\n      \"column\": \"start_time\",\n      \"properties\": {\n        \"dtype\": \"number\",\n        \"std\": 6.829620309774874,\n        \"min\": 1.48866510391236,\n        \"max\": 26.8709983825684,\n        \"num_unique_values\": 9915,\n        \"samples\": [\n          2.55325412750244,\n          23.2073287963867,\n          16.7589282989502\n        ],\n        \"semantic_type\": \"\",\n        \"description\": \"\"\n      }\n    },\n    {\n      \"column\": \"substance\",\n      \"properties\": {\n        \"dtype\": \"category\",\n        \"num_unique_values\": 46,\n        \"samples\": [\n          \"\\u044118\",\n          \"\\u043d13\",\n          \"\\u043814\"\n        ],\n        \"semantic_type\": \"\",\n        \"description\": \"\"\n      }\n    }\n  ]\n}"
            }
          },
          "metadata": {},
          "execution_count": 4
        }
      ],
      "source": [
        "#Подготовка тренировочных данных\n",
        "\n",
        "train = pd.read_excel('train.xlsx')\n",
        "train.info()\n",
        "train.head()"
      ]
    },
    {
      "cell_type": "markdown",
      "metadata": {
        "id": "SdjmflLyYPVg"
      },
      "source": [
        "\n",
        "\n",
        "*   Все типы данных столбцах соответствуют действительности;\n",
        "*   В данных имеются пропуски. Это неидентифицированные пики и их нужно просто удалить.\n",
        "\n"
      ]
    },
    {
      "cell_type": "code",
      "execution_count": 5,
      "metadata": {
        "colab": {
          "base_uri": "https://localhost:8080/"
        },
        "id": "12csdg9WXs8V",
        "outputId": "7092bc2c-01cf-41e2-f25c-4df5f63c2e56"
      },
      "outputs": [
        {
          "output_type": "stream",
          "name": "stdout",
          "text": [
            "<class 'pandas.core.frame.DataFrame'>\n",
            "Index: 9225 entries, 0 to 10161\n",
            "Data columns (total 4 columns):\n",
            " #   Column      Non-Null Count  Dtype  \n",
            "---  ------      --------------  -----  \n",
            " 0   time        9225 non-null   float64\n",
            " 1   square      9225 non-null   float64\n",
            " 2   start_time  9225 non-null   float64\n",
            " 3   substance   9225 non-null   object \n",
            "dtypes: float64(3), object(1)\n",
            "memory usage: 360.4+ KB\n"
          ]
        }
      ],
      "source": [
        "#удаление пропусков в данных\n",
        "train = train.dropna()\n",
        "train.info()"
      ]
    },
    {
      "cell_type": "code",
      "execution_count": 6,
      "metadata": {
        "colab": {
          "base_uri": "https://localhost:8080/"
        },
        "id": "Q9TsUdPSXs_Q",
        "outputId": "416fe829-dd7b-43ff-cb50-1c1add8c7cc1"
      },
      "outputs": [
        {
          "output_type": "execute_result",
          "data": {
            "text/plain": [
              "0"
            ]
          },
          "metadata": {},
          "execution_count": 6
        }
      ],
      "source": [
        "#проверка на дубликаты\n",
        "train.duplicated().sum()"
      ]
    },
    {
      "cell_type": "markdown",
      "metadata": {
        "id": "f5PG9JqBcvpG"
      },
      "source": [
        "Явных дубликатов в данных нет."
      ]
    },
    {
      "cell_type": "code",
      "execution_count": 7,
      "metadata": {
        "colab": {
          "base_uri": "https://localhost:8080/",
          "height": 359
        },
        "id": "q18n2-BuOs65",
        "outputId": "3018af04-3f0d-4e64-cc1d-d317b682984b"
      },
      "outputs": [
        {
          "output_type": "display_data",
          "data": {
            "text/plain": [
              "<Figure size 1800x300 with 1 Axes>"
            ],
            "image/png": "[encoded data removed]"
          },
          "metadata": {}
        }
      ],
      "source": [
        "plt.figure(figsize=(18,3))\n",
        "ax = sns.barplot(train.groupby('substance')['time'].count().sort_values(ascending=False), color='MediumPurple')\n",
        "ax.bar_label(ax.containers[0], fontsize=10);\n",
        "plt.title('Распределение классов')\n",
        "plt.xticks(rotation=45)\n",
        "plt.xlabel('Соединение')\n",
        "plt.ylabel('Частота')\n",
        "plt.show()"
      ]
    },
    {
      "cell_type": "markdown",
      "metadata": {
        "id": "mcg29tYkX3CQ"
      },
      "source": [
        "Наблюдается несбалансированность классов. Поэтому в качестве метрики для моделей будем использовать f1-score с макро-усреднением, поскольку нам важны все классы."
      ]
    },
    {
      "cell_type": "markdown",
      "metadata": {
        "id": "K4Sf8r2QdHuv"
      },
      "source": [
        "# Обучение моделей"
      ]
    },
    {
      "cell_type": "code",
      "execution_count": 8,
      "metadata": {
        "id": "GoFyHvKn8MR9"
      },
      "outputs": [],
      "source": [
        "#разбиение на тренировочную и тестовую выборки\n",
        "\n",
        "X_train, X_test, y_train, y_test = train_test_split(train.drop(['substance', 'square'], axis=1),\n",
        "                                                    train['substance'],\n",
        "                                                    test_size = TEST_SIZE,\n",
        "                                                    random_state = RANDOM_STATE)"
      ]
    },
    {
      "cell_type": "code",
      "execution_count": 9,
      "metadata": {
        "id": "bigFpjMfS-5l"
      },
      "outputs": [],
      "source": [
        "#подготовка пайплайна для перебора гиперпараметров модели\n",
        "\n",
        "pipe_final = Pipeline([\n",
        "    ('models', DecisionTreeClassifier(random_state=RANDOM_STATE))\n",
        "])\n",
        "\n",
        "param_distributions = [\n",
        "    {\n",
        "        'models': [DecisionTreeClassifier(random_state=RANDOM_STATE)],\n",
        "        'models__max_depth': range(2, 21)\n",
        "    },\n",
        "    {\n",
        "        'models': [SVC(random_state=RANDOM_STATE, probability=True)],\n",
        "        'models__kernel': ['linear', 'poly', 'rbf', 'sigmoid']\n",
        "    },\n",
        "    {\n",
        "        'models': [RandomForestClassifier(random_state=RANDOM_STATE)],\n",
        "        'models__n_estimators': [100, 150]\n",
        "    },\n",
        "    {\n",
        "        'models': [XGBClassifier(random_state=RANDOM_STATE)],\n",
        "        'models__max_depth': range(2, 6)\n",
        "    },\n",
        "    {\n",
        "        'models': [KNeighborsClassifier()],\n",
        "        'models__n_neighbors': range(2, 6)\n",
        "    },\n",
        "    {\n",
        "        'models': [CatBoostClassifier(random_state=RANDOM_STATE,\n",
        "                                      learning_rate=0.1,\n",
        "                                      verbose=False)]\n",
        "    }]"
      ]
    },
    {
      "cell_type": "code",
      "execution_count": 11,
      "metadata": {
        "id": "tpMrS0jh6Rfz"
      },
      "outputs": [],
      "source": [
        "#подготовка пайплайна для нахождения лучшей модели\n",
        "\n",
        "model = GridSearchCV(\n",
        "    pipe_final,\n",
        "    param_grid=param_distributions,\n",
        "    cv=5,\n",
        "    scoring='f1_macro',\n",
        "    n_jobs=-1,\n",
        ")"
      ]
    },
    {
      "cell_type": "code",
      "execution_count": 12,
      "metadata": {
        "colab": {
          "base_uri": "https://localhost:8080/"
        },
        "id": "X6ClwBOB6WLc",
        "outputId": "817666f4-9564-4167-dbcd-237742c379e2"
      },
      "outputs": [
        {
          "output_type": "stream",
          "name": "stdout",
          "text": [
            "Метрика для лучшей модели:\n",
            " 0.913\n",
            "\n",
            "Лучшая модель и её параметры:\n",
            "\n",
            " {'models': KNeighborsClassifier(n_neighbors=3), 'models__n_neighbors': 3}\n"
          ]
        }
      ],
      "source": [
        "model.fit(X_train, y_train)\n",
        "print('Метрика для лучшей модели:\\n', round(model.best_score_, 3))\n",
        "print('\\nЛучшая модель и её параметры:\\n\\n', model.best_params_)"
      ]
    },
    {
      "cell_type": "code",
      "execution_count": 13,
      "metadata": {
        "colab": {
          "base_uri": "https://localhost:8080/"
        },
        "id": "9FUBswC5fuC6",
        "outputId": "d589baa6-c975-4a1f-a5b4-3a9041f3b791"
      },
      "outputs": [
        {
          "output_type": "execute_result",
          "data": {
            "text/plain": [
              "0.936"
            ]
          },
          "metadata": {},
          "execution_count": 13
        }
      ],
      "source": [
        "y_pred = model.best_estimator_.predict(X_test)\n",
        "round(f1_score(y_test, y_pred, average='macro'), 3)"
      ]
    },
    {
      "cell_type": "markdown",
      "metadata": {
        "id": "0e4uCWEWdMKS"
      },
      "source": [
        "# Расчет каталитических характеристик эксперимента"
      ]
    },
    {
      "cell_type": "code",
      "execution_count": 14,
      "metadata": {
        "id": "MfezeaReWijQ"
      },
      "outputs": [],
      "source": [
        "#создание словаря со всеми идентифицируемыми соединениями\n",
        "\n",
        "substances = {'substance' : ['н5', 'н6', 'н7','н8','н9','н10','н11','н12','н13','н14','н15','н16','н17','н18','н19',\n",
        "                             'и5', 'и6', 'и7','и8','и9','и10','и11','и12','и13','и14','и15','и16','и17','и18','и19',\n",
        "                             'к6', 'к7', 'к8', 'к9', 'к10', 'к11', 'к12', 'к13', 'к14', 'к15', 'к16', 'к17', 'о', 'с', 'л', 'лл', 'а',\n",
        "                             'а6', 'а7', 'а8', 'а9', 'а10', 'с18'],\n",
        "              'count_C' : [5, 6, 7, 8, 9, 10, 11, 12, 13, 14, 15, 16, 17, 18, 19,\n",
        "                           5, 6, 7, 8, 9, 10, 11, 12, 13, 14, 15, 16, 17, 18, 19,\n",
        "                           9, 10, 11, 12, 13, 14, 15, 16, 17, 18, 19, 20, 21, 21, 21, 21, 23,\n",
        "                           6, 7, 8, 9, 10, 18],\n",
        "              'molar_mass' : [72, 86, 100, 114, 128, 142, 156, 170, 184, 198, 212, 226, 240, 254, 268,\n",
        "                              72, 86, 100, 114, 128, 142, 156, 170, 184, 198, 212, 226, 240, 254, 268,\n",
        "                              128, 130, 144, 158, 172, 186, 200, 214, 228, 242, 256, 270, 284, 282, 280, 278, 312,\n",
        "                              78, 92, 106, 120.2, 134, 270.5]\n",
        "              }\n",
        "\n",
        "activity = pd.DataFrame(index =['Конверсия', 'н-алканы', 'изо-алканы', 'ЖК', 'ароматика', 'спирт', '18_17'])\n",
        "\n",
        "moles = pd.DataFrame()\n",
        "masses = pd.DataFrame()"
      ]
    },
    {
      "cell_type": "code",
      "execution_count": 15,
      "metadata": {
        "colab": {
          "base_uri": "https://localhost:8080/"
        },
        "id": "L2jpZXUY9SgE",
        "outputId": "0071a6b6-1124-431a-8537-7882e6c0c94e"
      },
      "outputs": [
        {
          "name": "stdout",
          "output_type": "stream",
          "text": [
            "Количество отобранных точек в эксперименте: 7\n"
          ]
        }
      ],
      "source": [
        "n = int(input('Количество отобранных точек в эксперименте: '))"
      ]
    },
    {
      "cell_type": "code",
      "execution_count": 16,
      "metadata": {
        "id": "MrMXdEzR-t3t"
      },
      "outputs": [],
      "source": [
        "probes = pd.read_excel('experiment.xlsx', sheet_name='liquid')"
      ]
    },
    {
      "cell_type": "code",
      "execution_count": 17,
      "metadata": {
        "id": "beMvbo3HcNKm"
      },
      "outputs": [],
      "source": [
        "#Классификация соединений выбранной моделью\n",
        "\n",
        "for i in range(n):\n",
        "    df_pred = pd.read_excel('experiment.xlsx', sheet_name=str(i+1))\n",
        "    X_pred = df_pred.drop(['square'], axis=1)\n",
        "    substance_pred = model.best_estimator_.predict(X_pred)\n",
        "    df_pred['substance'] = substance_pred\n",
        "\n",
        "    #создание датафрейма с веществами для дальнейшего расчета\n",
        "    data = pd.DataFrame(substances)\n",
        "\n",
        "    #подсчет общей площади для каждого соединения и объединение с датафреймом для расчета\n",
        "    sum_square = df_pred.groupby('substance')['square'].sum()\n",
        "    data = data.join(sum_square, how='left', on='substance', lsuffix='_1', rsuffix='_2')\n",
        "    data = data.fillna(0)\n",
        "\n",
        "    #Расчет нормированной площади\n",
        "    data['norm_square'] = data['square'] / data['count_C']\n",
        "\n",
        "    #Расчет мольной доли каждого соединения\n",
        "    data['molar_fraction'] = data['norm_square'] * 100 / sum(data['norm_square'])\n",
        "\n",
        "    #Расчет параметра, необходимого для дальнейшего расчета концентрации\n",
        "    sum_m_w = sum(data['molar_mass'] * data['molar_fraction'])\n",
        "\n",
        "    #Расчет концентрации соединения в г/моль\n",
        "    data['concentration'] = data['molar_fraction'] / sum_m_w\n",
        "\n",
        "    #Параметры пробы\n",
        "    mass = probes.iloc[i]['right_mass']\n",
        "    time = probes.iloc[i]['time'] / 60\n",
        "    speed = probes.iloc[i]['speed']\n",
        "\n",
        "    #количество кислоты перед реактором\n",
        "    n_0 = speed * DENSITY * time / MOLAR_MASS_ACID\n",
        "\n",
        "    #расчет молей каждого вещества\n",
        "    data['moles'] = data['concentration'] * mass\n",
        "\n",
        "    #расчет массы каждого вещества\n",
        "    data['mass'] = data['moles'] * data['molar_mass']\n",
        "\n",
        "    #количество кислоты после реактора\n",
        "    n = sum(data.iloc[[40, 42, 43, 44, 45, 46]]['concentration']) * mass\n",
        "\n",
        "    #суммарная концентрация всех продуктов\n",
        "    conc_all_prod = sum(data.iloc[0:39]['concentration']) + data.iloc[41]['concentration'] + sum(data.iloc[47:52]['concentration'])\n",
        "\n",
        "    #Расчет конверсии в данной точке\n",
        "    conversion = (n_0 - n) * 100 / n_0\n",
        "\n",
        "    #суммарная концентрация всех продуктов\n",
        "    conc_all_prod = sum(data.iloc[0:40]['concentration']) + data.iloc[41]['concentration'] + sum(data.iloc[47:53]['concentration'])\n",
        "\n",
        "    #Селективность к нормальным алканам\n",
        "    s_n_alkanes = sum(data.iloc[0:15]['concentration']) * 100 / conc_all_prod\n",
        "\n",
        "    #Селективность к изо-алканам\n",
        "    s_iso_alkanes = sum(data.iloc[15:30]['concentration']) * 100 / conc_all_prod\n",
        "\n",
        "    #Селективность к жирным кислотам\n",
        "    s_fa = (sum(data.iloc[30:40]['concentration']) + data.iloc[41]['concentration']) * 100 / conc_all_prod\n",
        "\n",
        "    #Селективность к ароматике\n",
        "    s_ar = sum(data.iloc[47:52]['concentration']) * 100 / conc_all_prod\n",
        "\n",
        "    #Селективность к октадеканолу\n",
        "    s_alc = data.iloc[52]['concentration'] * 100 / conc_all_prod\n",
        "\n",
        "    #Отношение С18 алканов к С17\n",
        "    ratio_18_17 = (data.iloc[13]['concentration'] + data.iloc[28]['concentration']) / (data.iloc[12]['concentration'] + data.iloc[27]['concentration'])\n",
        "\n",
        "    activity[str(i+1)] = [conversion, s_n_alkanes, s_iso_alkanes, s_fa, s_ar, s_alc, ratio_18_17]\n",
        "\n",
        "    moles[str(i+1)] = data['moles']\n",
        "\n",
        "    masses[str(i+1)] = data['mass']"
      ]
    },
    {
      "cell_type": "code",
      "execution_count": 18,
      "metadata": {
        "id": "z99dSrzUhrV2"
      },
      "outputs": [],
      "source": [
        "\n",
        "sheets = {'активность': activity, 'моли': moles, 'массы': masses}\n",
        "writer = pd.ExcelWriter('experiment.xlsx', engine='xlsxwriter')\n",
        "\n",
        "for sheet_name in sheets.keys():\n",
        "    sheets[sheet_name].to_excel(writer, sheet_name=sheet_name)\n",
        "\n",
        "writer.close()\n"
      ]
    }
  ],
  "metadata": {
    "colab": {
      "provenance": [],
      "authorship_tag": "ABX9TyOHK6Xu9RdHCLY2nG0u6kRp",
      "include_colab_link": true
    },
    "kernelspec": {
      "display_name": "Python 3",
      "name": "python3"
    },
    "language_info": {
      "name": "python"
    }
  },
  "nbformat": 4,
  "nbformat_minor": 0
}